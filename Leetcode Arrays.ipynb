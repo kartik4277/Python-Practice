{
 "cells": [
  {
   "cell_type": "markdown",
   "id": "c6ceb58b",
   "metadata": {},
   "source": [
    "Given a binary array nums, return the maximum number of consecutive 1's in the array.\n",
    "\n",
    " \n",
    "\n",
    "Example 1:\n",
    "\n",
    "Input: nums = [1,1,0,1,1,1]\n",
    "Output: 3\n",
    "Explanation: The first two digits or the last three digits are consecutive 1s. The maximum number of consecutive 1s is 3.\n",
    "Example 2:\n",
    "\n",
    "Input: nums = [1,0,1,1,0,1]\n",
    "Output: 2\n",
    " \n",
    "\n",
    "Constraints:\n",
    "\n",
    "1 <= nums.length <= 105\n",
    "nums[i] is either 0 or 1."
   ]
  },
  {
   "cell_type": "code",
   "execution_count": 4,
   "id": "ba173825",
   "metadata": {},
   "outputs": [],
   "source": [
    "import numpy as np\n",
    "\n",
    "class Solution(object):\n",
    "    def findMaxConsecutiveOnes(self, nums):\n",
    "        \"\"\"\n",
    "        :type nums: List[int]\n",
    "        :rtype: int\n",
    "        \"\"\"\n",
    "        nums = np.array(nums)\n",
    "        indices0 = np.where(nums == 0)[0]\n",
    "        indices0 = np.append(indices0, len(nums))\n",
    "        indices0 = np.insert(indices0, 0, -1)\n",
    "\n",
    "        diff = []\n",
    "        for i in range(len(indices0) - 1):\n",
    "            diff_indices = indices0[i+1] - indices0[i]\n",
    "            diff.append(diff_indices)\n",
    "\n",
    "        return max(diff) - 1"
   ]
  },
  {
   "cell_type": "markdown",
   "id": "d08637bf",
   "metadata": {},
   "source": [
    "Given an array nums of integers, return how many of them contain an even number of digits.\n",
    "\n",
    "Input: nums = [12,345,2,6,7896]\n",
    "Output: 2\n",
    "Explanation: \n",
    "12 contains 2 digits (even number of digits). \n",
    "345 contains 3 digits (odd number of digits). \n",
    "2 contains 1 digit (odd number of digits). \n",
    "6 contains 1 digit (odd number of digits). \n",
    "7896 contains 4 digits (even number of digits). \n",
    "Therefore only 12 and 7896 contain an even number of digits.\n",
    "Example 2:\n",
    "\n",
    "Input: nums = [555,901,482,1771]\n",
    "Output: 1 \n",
    "Explanation: \n",
    "Only 1771 contains an even number of digits.\n",
    " \n",
    "\n",
    "Constraints:\n",
    "\n",
    "1 <= nums.length <= 500\n",
    "1 <= nums[i] <= 105"
   ]
  },
  {
   "cell_type": "code",
   "execution_count": 3,
   "id": "ba0c359c",
   "metadata": {},
   "outputs": [],
   "source": [
    "class Solution(object):\n",
    "    def findNumbers(self, nums):\n",
    "        \"\"\"\n",
    "        :type nums: List[int]\n",
    "        :rtype: int\n",
    "        \"\"\"\n",
    "        even_count = 0\n",
    "        for i in nums:\n",
    "            if len(str(i)) % 2 == 0:\n",
    "                even_count = even_count + 1\n",
    "        return even_count"
   ]
  },
  {
   "cell_type": "markdown",
   "id": "172307a9",
   "metadata": {},
   "source": [
    "Given an integer array nums sorted in non-decreasing order, return an array of the squares of each number sorted in non-decreasing order.\n",
    "\n",
    " \n",
    "\n",
    "Example 1:\n",
    "\n",
    "Input: nums = [-4,-1,0,3,10]\n",
    "Output: [0,1,9,16,100]\n",
    "Explanation: After squaring, the array becomes [16,1,0,9,100].\n",
    "After sorting, it becomes [0,1,9,16,100].\n",
    "Example 2:\n",
    "\n",
    "Input: nums = [-7,-3,2,3,11]\n",
    "Output: [4,9,9,49,121]\n",
    " \n",
    "\n",
    "Constraints:\n",
    "\n",
    "1 <= nums.length <= 104\n",
    "-104 <= nums[i] <= 104\n",
    "nums is sorted in non-decreasing order.\n"
   ]
  },
  {
   "cell_type": "code",
   "execution_count": 2,
   "id": "56110b8e",
   "metadata": {},
   "outputs": [],
   "source": [
    "class Solution(object):\n",
    "    def sortedSquares(self, nums):\n",
    "        \"\"\"\n",
    "        :type nums: List[int]\n",
    "        :rtype: List[int]\n",
    "        \"\"\"\n",
    "        import numpy as np\n",
    "        nums_arr = np.array(nums)\n",
    "        nums2 = nums_arr**2\n",
    "        nums_sort = np.sort(nums2)\n",
    "        return nums_sort.tolist()"
   ]
  },
  {
   "cell_type": "markdown",
   "id": "3632df3e",
   "metadata": {},
   "source": [
    "Given a fixed-length integer array arr, duplicate each occurrence of zero, shifting the remaining elements to the right.\n",
    "\n",
    "Note that elements beyond the length of the original array are not written. Do the above modifications to the input array in place and do not return anything.\n",
    "\n",
    " \n",
    "\n",
    "Example 1:\n",
    "\n",
    "Input: arr = [1,0,2,3,0,4,5,0]\n",
    "Output: [1,0,0,2,3,0,0,4]\n",
    "Explanation: After calling your function, the input array is modified to: [1,0,0,2,3,0,0,4]\n",
    "Example 2:\n",
    "\n",
    "Input: arr = [1,2,3]\n",
    "Output: [1,2,3]\n",
    "Explanation: After calling your function, the input array is modified to: [1,2,3]"
   ]
  },
  {
   "cell_type": "code",
   "execution_count": 1,
   "id": "29bddc44",
   "metadata": {},
   "outputs": [],
   "source": [
    "class Solution(object):\n",
    "    def duplicateZeros(self, arr):\n",
    "        \"\"\"\n",
    "        :type arr: List[int]\n",
    "        :rtype: None Do not return anything, modify arr in-place instead.\n",
    "        \"\"\"\n",
    "        import numpy as np\n",
    "        i = 0\n",
    "\n",
    "        while i < len(arr) - 1:\n",
    "            if arr[i] == 0:\n",
    "                arr.insert(i+1, 0)\n",
    "                arr.pop()\n",
    "                i = i + 2\n",
    "            else:\n",
    "                i = i + 1\n",
    "        return arr "
   ]
  },
  {
   "cell_type": "markdown",
   "id": "db206c17",
   "metadata": {},
   "source": [
    "You are given two integer arrays nums1 and nums2, sorted in non-decreasing order, and two integers m and n, representing the number of elements in nums1 and nums2 respectively.\n",
    "\n",
    "Merge nums1 and nums2 into a single array sorted in non-decreasing order.\n",
    "\n",
    "The final sorted array should not be returned by the function, but instead be stored inside the array nums1. To accommodate this, nums1 has a length of m + n, where the first m elements denote the elements that should be merged, and the last n elements are set to 0 and should be ignored. nums2 has a length of n.\n",
    "\n",
    " \n",
    "\n",
    "Example 1:\n",
    "\n",
    "Input: nums1 = [1,2,3,0,0,0], m = 3, nums2 = [2,5,6], n = 3\n",
    "Output: [1,2,2,3,5,6]\n",
    "Explanation: The arrays we are merging are [1,2,3] and [2,5,6].\n",
    "The result of the merge is [1,2,2,3,5,6] with the underlined elements coming from nums1.\n",
    "Example 2:\n",
    "\n",
    "Input: nums1 = [1], m = 1, nums2 = [], n = 0\n",
    "Output: [1]\n",
    "Explanation: The arrays we are merging are [1] and [].\n",
    "The result of the merge is [1].\n",
    "Example 3:\n",
    "\n",
    "Input: nums1 = [0], m = 0, nums2 = [1], n = 1\n",
    "Output: [1]\n",
    "Explanation: The arrays we are merging are [] and [1].\n",
    "The result of the merge is [1].\n",
    "Note that because m = 0, there are no elements in nums1. The 0 is only there to ensure the merge result"
   ]
  },
  {
   "cell_type": "code",
   "execution_count": 5,
   "id": "d61ab9a1",
   "metadata": {},
   "outputs": [],
   "source": [
    "class Solution(object):\n",
    "    def merge(self, nums1, m, nums2, n):\n",
    "        \"\"\"\n",
    "        :type nums1: List[int]\n",
    "        :type m: int\n",
    "        :type nums2: List[int]\n",
    "        :type n: int\n",
    "        :rtype: None Do not return anything, modify nums1 in-place instead.\n",
    "        \"\"\"\n",
    "        nums1[:] = nums1[:m]\n",
    "        nums1.extend(nums2)\n",
    "        nums1.sort()"
   ]
  },
  {
   "cell_type": "markdown",
   "id": "0833aa5e",
   "metadata": {},
   "source": [
    "Given an integer array nums and an integer val, remove all occurrences of val in nums in-place. The order of the elements may be changed. Then return the number of elements in nums which are not equal to val.\n",
    "\n",
    "Consider the number of elements in nums which are not equal to val be k, to get accepted, you need to do the following things:\n",
    "\n",
    "Change the array nums such that the first k elements of nums contain the elements which are not equal to val. The remaining elements of nums are not important as well as the size of nums.\n",
    "Return k."
   ]
  },
  {
   "cell_type": "code",
   "execution_count": 6,
   "id": "26a0ec41",
   "metadata": {},
   "outputs": [],
   "source": [
    "class Solution(object):\n",
    "    def removeElement(self, nums, val):\n",
    "        \"\"\"\n",
    "        :type nums: List[int]\n",
    "        :type val: int\n",
    "        :rtype: int\n",
    "        \"\"\"\n",
    "        nums[:] = [x for x in nums if x != val]\n",
    "        return len(nums)"
   ]
  },
  {
   "cell_type": "markdown",
   "id": "ec3e9606",
   "metadata": {},
   "source": [
    "Given an integer array nums sorted in non-decreasing order, remove the duplicates in-place such that each unique element appears only once. The relative order of the elements should be kept the same. Then return the number of unique elements in nums.\n",
    "\n",
    "Consider the number of unique elements of nums to be k, to get accepted, you need to do the following things:\n",
    "\n",
    "Change the array nums such that the first k elements of nums contain the unique elements in the order they were present in nums initially. The remaining elements of nums are not important as well as the size of nums.\n",
    "Return k.\n"
   ]
  },
  {
   "cell_type": "code",
   "execution_count": 7,
   "id": "4581e1dc",
   "metadata": {},
   "outputs": [],
   "source": [
    "class Solution(object):\n",
    "    def removeDuplicates(self, nums):\n",
    "        \"\"\"\n",
    "        :type nums: List[int]\n",
    "        :rtype: int\n",
    "        \"\"\"\n",
    "        nums[:] = sorted(set(nums))\n",
    "        return len(nums)"
   ]
  }
 ],
 "metadata": {
  "kernelspec": {
   "display_name": "Python 3",
   "language": "python",
   "name": "python3"
  },
  "language_info": {
   "codemirror_mode": {
    "name": "ipython",
    "version": 3
   },
   "file_extension": ".py",
   "mimetype": "text/x-python",
   "name": "python",
   "nbconvert_exporter": "python",
   "pygments_lexer": "ipython3",
   "version": "3.9.6"
  }
 },
 "nbformat": 4,
 "nbformat_minor": 5
}
